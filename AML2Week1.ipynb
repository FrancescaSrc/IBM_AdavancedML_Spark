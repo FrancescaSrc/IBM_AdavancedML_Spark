{
 "cells": [
  {
   "cell_type": "code",
   "execution_count": null,
   "metadata": {
    "collapsed": true
   },
   "outputs": [],
   "source": [
    "#!git clone https://github.com/wchill/HMP_Dataset"
   ]
  },
  {
   "cell_type": "markdown",
   "metadata": {},
   "source": [
    "# SPARKML PIPELINE"
   ]
  },
  {
   "cell_type": "code",
   "execution_count": null,
   "metadata": {},
   "outputs": [],
   "source": [
    "Clone and create a Spark Dataframe"
   ]
  },
  {
   "cell_type": "code",
   "execution_count": null,
   "metadata": {},
   "outputs": [],
   "source": [
    "fromp pyspark.sql.types import StructType, StructField, IntegerType\n",
    "\n",
    "schema = StructType([\n",
    "    StructField('x', IntegerType(), True),\n",
    "    StructField('y', IntegerType(), True),\n",
    "    StructField('z', IntegerType(), True)\n",
    "])"
   ]
  },
  {
   "cell_type": "markdown",
   "metadata": {},
   "source": [
    "# ETL - Extract Transform Load"
   ]
  },
  {
   "cell_type": "code",
   "execution_count": null,
   "metadata": {},
   "outputs": [],
   "source": [
    "import os"
   ]
  },
  {
   "cell_type": "code",
   "execution_count": null,
   "metadata": {},
   "outputs": [],
   "source": [
    "os.listdir('HMP_Dataset')"
   ]
  },
  {
   "cell_type": "code",
   "execution_count": null,
   "metadata": {},
   "outputs": [],
   "source": [
    "#get rid of folders without underscore which do not have data\n",
    "file_list_filtered = [s for s in file_list if '_' is s]"
   ]
  },
  {
   "cell_type": "code",
   "execution_count": null,
   "metadata": {},
   "outputs": [],
   "source": [
    "#create Dataframe in Spark\n",
    "df = None\n",
    "from pyspark.sql.functions import lit\n",
    "\n",
    "for category in file_list_filterd:\n",
    "    data_files= os.listdir('HMP_Dataset/'+ category)\n",
    "    \n",
    "    for datafile in data_files:\n",
    "        print(datafile)\n",
    "        #creating temporary dataframe\n",
    "        temp_df = spark.read.option(\"header\", \"false\").option(\"delimiter\", \" \").csv('HMP_Dataset/'+ category+'/'+datafile, schema=schema)\n",
    "        \n",
    "        temp_def =temp_def.withColumn('class', lit(category))\n",
    "        temp_def =temp_def.withColumn('source', lit(datafile))\n",
    "        \n",
    "        if df is None:\n",
    "            df=temp_df\n",
    "        else:\n",
    "            #append the new data\n",
    "            df=df.union(temp_df)"
   ]
  },
  {
   "cell_type": "code",
   "execution_count": null,
   "metadata": {},
   "outputs": [],
   "source": [
    "#Transform class to numbers\n",
    "# Stringindexer\n",
    "\n",
    "from pyspark.ml.feature import StringIndexer\n",
    "# tranform df and assign classindex to class\n",
    "#creating an estimator in Spark ML, indexer can remember a state\n",
    "indexer = StringIndexer(imputCol='class', ouputCol= 'classIndex')\n",
    "indexed = indexer.fit(df).transform(df)\n",
    "\n",
    "indexed.show()\n",
    "\n"
   ]
  },
  {
   "cell_type": "markdown",
   "metadata": {},
   "source": [
    "# one-hot encoding"
   ]
  },
  {
   "cell_type": "code",
   "execution_count": null,
   "metadata": {},
   "outputs": [],
   "source": [
    "from pyspark.ml.feature import OneHotEncoder\n",
    "\n",
    "#add column for one-hot encodig of class index\n",
    "encoder=OneHotEncoder(inputCol='classIndex', outputCol ='categoryVec')\n",
    "encoded = encoder.transform(indexed)"
   ]
  },
  {
   "cell_type": "code",
   "execution_count": null,
   "metadata": {},
   "outputs": [],
   "source": [
    "#call encoded.show should to trigger the Spark job. \n",
    "#In Apache Spark are always lazy, if you don't read the data nothing gets executed.\n",
    "# show() for first 20 rows\n",
    "# categoryVector is a compressed vector, first element is n.of elments, second is position, third element\n",
    "encoded.show()"
   ]
  },
  {
   "cell_type": "markdown",
   "metadata": {},
   "source": [
    "# Feature vectorization"
   ]
  },
  {
   "cell_type": "code",
   "execution_count": null,
   "metadata": {},
   "outputs": [],
   "source": [
    "from pyspark.ml.linalg import Vectors\n",
    "from pyspark.ml.feature import VectorAssembler\n",
    "\n",
    "#creating vector assembler to transform values x, y, z to vectors, create vectors from ordinary types\n",
    "\n",
    "vectorAssembler = VectorAssembler(inputCols= [\"x\", \"y\", \"z\"], outputCol= \"features\")\n",
    "\n",
    "features_vecotrized = vectorAssembler.transform(encoded)\n",
    "\n",
    "features_vecotrized.show()"
   ]
  },
  {
   "cell_type": "markdown",
   "metadata": {},
   "source": [
    "# normalizing"
   ]
  },
  {
   "cell_type": "code",
   "execution_count": null,
   "metadata": {},
   "outputs": [],
   "source": [
    "from pyspark.ml.feature import Normalizer\n",
    "\n",
    "normalizer = Normalizer(inputCol=\"features\", outputCol=\"features_norm\", p=1.0)\n",
    "normalized_data = normalizer.transform(features_vecotrized)"
   ]
  },
  {
   "cell_type": "markdown",
   "metadata": {},
   "source": [
    "##Create the pipeline"
   ]
  },
  {
   "cell_type": "code",
   "execution_count": null,
   "metadata": {},
   "outputs": [],
   "source": [
    "from pyspark.ml import Pipeline\n",
    "\n",
    "#the pipeline object takes an array of states\n",
    "pipeline = Pipeline(stages=[indexer, encoder, vectorAssembler, normalizer])\n",
    "\n",
    "model = pipeline.fit(df)\n",
    "\n",
    "prediction = model.transform(df)\n",
    "prediction.show()"
   ]
  },
  {
   "cell_type": "code",
   "execution_count": null,
   "metadata": {},
   "outputs": [],
   "source": [
    "# drop unnecessary columns\n",
    "df_train = prediction.drop('x').drop('y').drop('z').drop('class').drop('source').drop('features').drop('classIndex')\n",
    "\n",
    "#returns only categoryVec and features_norm column\n",
    "df_train.show()"
   ]
  }
 ],
 "metadata": {
  "kernelspec": {
   "display_name": "Python 3.5 with Spark 2.1",
   "language": "python",
   "name": "python3-spark21"
  },
  "language_info": {
   "codemirror_mode": {
    "name": "ipython",
    "version": 3
   },
   "file_extension": ".py",
   "mimetype": "text/x-python",
   "name": "python",
   "nbconvert_exporter": "python",
   "pygments_lexer": "ipython3",
   "version": "3.5.4"
  }
 },
 "nbformat": 4,
 "nbformat_minor": 1
}
